{
  "nbformat": 4,
  "nbformat_minor": 0,
  "metadata": {
    "colab": {
      "provenance": []
    },
    "kernelspec": {
      "name": "python3",
      "display_name": "Python 3"
    },
    "language_info": {
      "name": "python"
    }
  },
  "cells": [
    {
      "cell_type": "code",
      "execution_count": null,
      "metadata": {
        "id": "5hql0VLggUr8",
        "colab": {
          "base_uri": "https://localhost:8080/"
        },
        "outputId": "458e8a75-a60d-400a-f093-31a3fb57efe9"
      },
      "outputs": [
        {
          "output_type": "execute_result",
          "data": {
            "text/plain": [
              "int"
            ]
          },
          "metadata": {},
          "execution_count": 1
        }
      ],
      "source": [
        "# Create an object with a value of 2\n",
        "a=2\n",
        "\n",
        "# Check the data type\n",
        "type(a)"
      ]
    },
    {
      "cell_type": "code",
      "source": [
        "# Create an object with a value of 1086J\n",
        "b=1086J\n",
        "\n",
        "# Check the data type\n",
        "type(b)"
      ],
      "metadata": {
        "colab": {
          "base_uri": "https://localhost:8080/"
        },
        "id": "MxVtu8MYip5l",
        "outputId": "4928e60d-e06f-4967-b509-bc223e0246ca"
      },
      "execution_count": null,
      "outputs": [
        {
          "output_type": "execute_result",
          "data": {
            "text/plain": [
              "complex"
            ]
          },
          "metadata": {},
          "execution_count": 2
        }
      ]
    },
    {
      "cell_type": "code",
      "source": [
        "# Create an object with a value of 3.14567\n",
        "c=3.14567\n",
        "\n",
        "# Check the data type\n",
        "type(c)"
      ],
      "metadata": {
        "colab": {
          "base_uri": "https://localhost:8080/"
        },
        "id": "nUvxxzHbi0s8",
        "outputId": "5c3f39ce-eade-4b6d-bfd9-d454019e4fbd"
      },
      "execution_count": null,
      "outputs": [
        {
          "output_type": "execute_result",
          "data": {
            "text/plain": [
              "float"
            ]
          },
          "metadata": {},
          "execution_count": 3
        }
      ]
    },
    {
      "cell_type": "code",
      "source": [
        "# Printing your name\n",
        "My_Name = \"Hemalni\"\n",
        "\n",
        "# Check the results of the My_Name variable\n",
        "My_Name"
      ],
      "metadata": {
        "colab": {
          "base_uri": "https://localhost:8080/",
          "height": 35
        },
        "id": "VeZL03wFjCW9",
        "outputId": "928a23ae-4d43-45d9-b162-cb20f6014d63"
      },
      "execution_count": null,
      "outputs": [
        {
          "output_type": "execute_result",
          "data": {
            "text/plain": [
              "'Hemalni'"
            ],
            "application/vnd.google.colaboratory.intrinsic+json": {
              "type": "string"
            }
          },
          "metadata": {},
          "execution_count": 4
        }
      ]
    },
    {
      "cell_type": "code",
      "source": [
        "# Check the data type of the My_Name variable\n",
        "type(My_Name)"
      ],
      "metadata": {
        "colab": {
          "base_uri": "https://localhost:8080/"
        },
        "id": "oPyMPYTUjR7X",
        "outputId": "e7e21baa-eac0-43f1-91e2-d723bb98b34c"
      },
      "execution_count": null,
      "outputs": [
        {
          "output_type": "execute_result",
          "data": {
            "text/plain": [
              "str"
            ]
          },
          "metadata": {},
          "execution_count": 5
        }
      ]
    },
    {
      "cell_type": "code",
      "source": [
        "# Use the input statement to ask a user to enter their name\n",
        "UserName = input(\"What is your name? \")\n",
        "\n",
        "# Use a print statement to check your input. Add a greeting to your statement.\n",
        "print(\"Hello, \", UserName)\n",
        "\n",
        "# Now use a print statement to tell the user the data type.\n",
        "print(\"Your name is\", type(UserName))"
      ],
      "metadata": {
        "colab": {
          "base_uri": "https://localhost:8080/"
        },
        "id": "ZX_6s8UPQQ-J",
        "outputId": "6fb94060-1658-4034-c2e4-7dd0f9d343af"
      },
      "execution_count": null,
      "outputs": [
        {
          "output_type": "stream",
          "name": "stdout",
          "text": [
            "What is your name? Hemalni\n",
            "Hello,  Hemalni\n",
            "Your name is <class 'str'>\n"
          ]
        }
      ]
    },
    {
      "cell_type": "code",
      "source": [
        "# Let's check how many characters does your name contain.\n",
        "len(UserName)"
      ],
      "metadata": {
        "colab": {
          "base_uri": "https://localhost:8080/"
        },
        "id": "js1BDWcgTCQQ",
        "outputId": "2fbf6bc7-7efe-4c6d-9b90-e965aeb31f44"
      },
      "execution_count": null,
      "outputs": [
        {
          "output_type": "execute_result",
          "data": {
            "text/plain": [
              "7"
            ]
          },
          "metadata": {},
          "execution_count": 13
        }
      ]
    },
    {
      "cell_type": "code",
      "source": [
        "My_Name = \"Hemalni\"\n",
        "\n",
        "# Let's see if My_Name is all Caps or not.\n",
        "My_Name.isupper()"
      ],
      "metadata": {
        "colab": {
          "base_uri": "https://localhost:8080/"
        },
        "id": "Wy5sSBs4TVzD",
        "outputId": "0d1283e8-35cb-4582-9c57-04941045fd61"
      },
      "execution_count": null,
      "outputs": [
        {
          "output_type": "execute_result",
          "data": {
            "text/plain": [
              "False"
            ]
          },
          "metadata": {},
          "execution_count": 23
        }
      ]
    },
    {
      "cell_type": "code",
      "source": [
        "# Let's convert My_Name to all caps.\n",
        "My_Name.upper()\n",
        "\n",
        "# Call the variable using the variable name.\n",
        "My_Name"
      ],
      "metadata": {
        "colab": {
          "base_uri": "https://localhost:8080/",
          "height": 35
        },
        "id": "kBbMgRryVAbQ",
        "outputId": "d5369b57-a9a6-4970-bd96-26ce62a81bef"
      },
      "execution_count": null,
      "outputs": [
        {
          "output_type": "execute_result",
          "data": {
            "text/plain": [
              "'HEMALNI'"
            ],
            "application/vnd.google.colaboratory.intrinsic+json": {
              "type": "string"
            }
          },
          "metadata": {},
          "execution_count": 27
        }
      ]
    },
    {
      "cell_type": "code",
      "source": [
        "# Check the uppercase again,\n",
        "UserName.isupper()"
      ],
      "metadata": {
        "colab": {
          "base_uri": "https://localhost:8080/"
        },
        "id": "yu25j9otVjI1",
        "outputId": "e96d1caf-c0b5-4c73-b656-1760302c22f3"
      },
      "execution_count": null,
      "outputs": [
        {
          "output_type": "execute_result",
          "data": {
            "text/plain": [
              "True"
            ]
          },
          "metadata": {},
          "execution_count": 19
        }
      ]
    },
    {
      "cell_type": "code",
      "source": [
        "# Write a sentence and store it into an object.\n",
        "new_sentence = \"this is my sentence\"\n",
        "\n",
        "# Use a print statement to view your new_sentence\n",
        "print(new_sentence)\n",
        "\n",
        "# Use the .upper() method in a print statement to print the upper case sentence\n",
        "print(new_sentence.upper())\n",
        "\n",
        "# Use the .capitalize() method to print the sentence with the first word capitalized.\n",
        "print(new_sentence.capitalize())\n",
        "\n",
        "# Use the .title() method to print the sentence with the first letter of each word capitalized.\n",
        "print(new_sentence.title())"
      ],
      "metadata": {
        "colab": {
          "base_uri": "https://localhost:8080/"
        },
        "id": "fd0h3jM1akxj",
        "outputId": "eabb4233-1a90-4a77-9672-5c8c37581470"
      },
      "execution_count": null,
      "outputs": [
        {
          "output_type": "stream",
          "name": "stdout",
          "text": [
            "this is my sentence\n",
            "THIS IS MY SENTENCE\n",
            "This is my sentence\n",
            "This Is My Sentence\n"
          ]
        }
      ]
    },
    {
      "cell_type": "code",
      "source": [
        "# Check the data type of the object you just created.\n",
        "type(new_sentence)"
      ],
      "metadata": {
        "colab": {
          "base_uri": "https://localhost:8080/"
        },
        "id": "50uf19EZce5R",
        "outputId": "9bffca6c-2cfb-469f-ebdf-273f54fd701c"
      },
      "execution_count": null,
      "outputs": [
        {
          "output_type": "execute_result",
          "data": {
            "text/plain": [
              "str"
            ]
          },
          "metadata": {},
          "execution_count": 32
        }
      ]
    },
    {
      "cell_type": "code",
      "source": [
        "# Check if it is all caps or not.\n",
        "new_sentence.isupper()"
      ],
      "metadata": {
        "colab": {
          "base_uri": "https://localhost:8080/"
        },
        "id": "dfvzy22qckwi",
        "outputId": "683c8ac2-6ebb-497e-c95a-995ec1b7e01d"
      },
      "execution_count": null,
      "outputs": [
        {
          "output_type": "execute_result",
          "data": {
            "text/plain": [
              "False"
            ]
          },
          "metadata": {},
          "execution_count": 33
        }
      ]
    },
    {
      "cell_type": "code",
      "source": [
        "# Challenge - Check if it is all lower case or not.\n",
        "new_sentence.islower()"
      ],
      "metadata": {
        "colab": {
          "base_uri": "https://localhost:8080/"
        },
        "id": "VJPr2uQccyy5",
        "outputId": "95555927-41c4-483a-8985-8b3336b73dda"
      },
      "execution_count": null,
      "outputs": [
        {
          "output_type": "execute_result",
          "data": {
            "text/plain": [
              "True"
            ]
          },
          "metadata": {},
          "execution_count": 34
        }
      ]
    },
    {
      "cell_type": "code",
      "source": [
        "# Challenge - Convert your object into all caps.\n",
        "new_sentence.upper()"
      ],
      "metadata": {
        "colab": {
          "base_uri": "https://localhost:8080/",
          "height": 35
        },
        "id": "Nw0ClcTkditS",
        "outputId": "57069535-e1bd-4bea-e5c2-97b73600e240"
      },
      "execution_count": null,
      "outputs": [
        {
          "output_type": "execute_result",
          "data": {
            "text/plain": [
              "'THIS IS MY SENTENCE'"
            ],
            "application/vnd.google.colaboratory.intrinsic+json": {
              "type": "string"
            }
          },
          "metadata": {},
          "execution_count": 35
        }
      ]
    },
    {
      "cell_type": "code",
      "source": [
        "# Challenge - Convert your object into all lower case.\n",
        "new_sentence.lower()"
      ],
      "metadata": {
        "id": "6fO8eBnadtlC",
        "colab": {
          "base_uri": "https://localhost:8080/",
          "height": 35
        },
        "outputId": "d77c1c37-cb2b-45a6-81c8-c2a1bd893de0"
      },
      "execution_count": 36,
      "outputs": [
        {
          "output_type": "execute_result",
          "data": {
            "text/plain": [
              "'this is my sentence'"
            ],
            "application/vnd.google.colaboratory.intrinsic+json": {
              "type": "string"
            }
          },
          "metadata": {},
          "execution_count": 36
        }
      ]
    },
    {
      "cell_type": "code",
      "source": [
        "# Create two variables, one with a value of True, one with a value of False\n",
        "a = True\n",
        "b = False"
      ],
      "metadata": {
        "id": "t5JhcHmqeGdR"
      },
      "execution_count": 37,
      "outputs": []
    },
    {
      "cell_type": "code",
      "source": [
        "# Check the data type of your new variables\n",
        "print(type(a),type(b))"
      ],
      "metadata": {
        "colab": {
          "base_uri": "https://localhost:8080/"
        },
        "id": "NsHEuJX4oHiD",
        "outputId": "6c81ae77-ca68-4f53-c022-b2f013c1a7d9"
      },
      "execution_count": 41,
      "outputs": [
        {
          "output_type": "stream",
          "name": "stdout",
          "text": [
            "<class 'bool'> <class 'bool'>\n"
          ]
        }
      ]
    },
    {
      "cell_type": "code",
      "source": [
        "# Create an object containing an integer.\n",
        "c = 2"
      ],
      "metadata": {
        "id": "ni19L3G7oTQS"
      },
      "execution_count": 42,
      "outputs": []
    },
    {
      "cell_type": "code",
      "source": [
        "# Check the data type of your new object\n",
        "type(c)"
      ],
      "metadata": {
        "colab": {
          "base_uri": "https://localhost:8080/"
        },
        "id": "g6G3AnSHodk5",
        "outputId": "874de44f-bf37-43d6-9590-9e190e48acb4"
      },
      "execution_count": 43,
      "outputs": [
        {
          "output_type": "execute_result",
          "data": {
            "text/plain": [
              "int"
            ]
          },
          "metadata": {},
          "execution_count": 43
        }
      ]
    },
    {
      "cell_type": "code",
      "source": [
        "# You want to use the value 1 as text. So let's convert it.\n",
        "c = str(c)"
      ],
      "metadata": {
        "id": "vxm_9xQqoyso"
      },
      "execution_count": 44,
      "outputs": []
    },
    {
      "cell_type": "code",
      "source": [
        "# Check the data type of your new object again.\n",
        "type(c)"
      ],
      "metadata": {
        "colab": {
          "base_uri": "https://localhost:8080/"
        },
        "id": "403lugTppGbL",
        "outputId": "f28290fc-2a6d-406d-afe7-569619cd8d47"
      },
      "execution_count": 45,
      "outputs": [
        {
          "output_type": "execute_result",
          "data": {
            "text/plain": [
              "str"
            ]
          },
          "metadata": {},
          "execution_count": 45
        }
      ]
    },
    {
      "cell_type": "code",
      "source": [
        "# Exercise for you. Store the number 123456 as string.\n",
        "d = 123456\n",
        "d = str(d)\n",
        "\n",
        "# Check the data type\n",
        "type(d)"
      ],
      "metadata": {
        "colab": {
          "base_uri": "https://localhost:8080/"
        },
        "id": "FWReqBEEpJ__",
        "outputId": "26313186-fe04-4fe5-df67-03fa180f8df7"
      },
      "execution_count": 46,
      "outputs": [
        {
          "output_type": "execute_result",
          "data": {
            "text/plain": [
              "str"
            ]
          },
          "metadata": {},
          "execution_count": 46
        }
      ]
    },
    {
      "cell_type": "code",
      "source": [
        "# Let's do the opposite now.\n",
        "# Create a variable and assign a numeric value as a string\n",
        "e = \"4\"\n",
        "\n",
        "# Check the data type of your variable\n",
        "type(e)"
      ],
      "metadata": {
        "colab": {
          "base_uri": "https://localhost:8080/"
        },
        "id": "9NDkmkUZpzpZ",
        "outputId": "6973d830-f326-4830-a6c8-ea78c06b63e1"
      },
      "execution_count": 47,
      "outputs": [
        {
          "output_type": "execute_result",
          "data": {
            "text/plain": [
              "str"
            ]
          },
          "metadata": {},
          "execution_count": 47
        }
      ]
    },
    {
      "cell_type": "code",
      "source": [
        "# Let's learn to convert string to integer now.\n",
        "e = int(e)\n",
        "\n",
        "# Check the data type\n",
        "type(e)"
      ],
      "metadata": {
        "colab": {
          "base_uri": "https://localhost:8080/"
        },
        "id": "7Zyk7b9HqW1G",
        "outputId": "6fbe8699-4a8a-4d92-d749-b4736d59a181"
      },
      "execution_count": 48,
      "outputs": [
        {
          "output_type": "execute_result",
          "data": {
            "text/plain": [
              "int"
            ]
          },
          "metadata": {},
          "execution_count": 48
        }
      ]
    }
  ]
}